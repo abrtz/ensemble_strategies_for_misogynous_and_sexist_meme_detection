{
 "cells": [
  {
   "cell_type": "code",
   "execution_count": 2,
   "metadata": {},
   "outputs": [],
   "source": [
    "import os\n",
    "from utils import *"
   ]
  },
  {
   "cell_type": "markdown",
   "metadata": {},
   "source": [
    "# Gold labels for evaluation"
   ]
  },
  {
   "cell_type": "code",
   "execution_count": 7,
   "metadata": {},
   "outputs": [],
   "source": [
    "#MAMI datasets\n",
    "mami_val_df = load_dataset(\"MAMI\",data_dir=\"../data/MAMI\",split_name=\"validation\")\n",
    "mami_test_df = load_dataset(\"MAMI\",split_name=\"test\")\n",
    "\n",
    "#EXIST datasets\n",
    "exist_test_df = load_dataset(\"EXIST2024\",data_dir=\"../data/EXIST2024\",split_name=\"test\")\n",
    "exist_val_df = load_dataset(\"EXIST2024\",data_dir=\"../data/EXIST2024\",split_name=\"validation\")"
   ]
  },
  {
   "cell_type": "code",
   "execution_count": 8,
   "metadata": {},
   "outputs": [],
   "source": [
    "new_dir = \"../models/evaluation/golds\"\n",
    "datasets = [\"MAMI\",\"EXIST2024\"]\n",
    "for dataset in datasets:\n",
    "    if not os.path.exists(f\"{new_dir}/{dataset}\"):\n",
    "        os.makedirs(f\"{new_dir}/{dataset}\")"
   ]
  },
  {
   "cell_type": "code",
   "execution_count": 9,
   "metadata": {},
   "outputs": [],
   "source": [
    "mami_labels= [\"misogynous\", \"shaming\",\"stereotype\",\"objectification\",\"violence\"]\n",
    "exist_labels = [\"sexist\",\"ideological-inequality\",\"misogyny-non-sexual-violence\",\"objectification\",\"sexual-violence\",\"stereotyping-dominance\"]\n",
    "#put the gold labels in a dict to save them all at once\n",
    "gold_label_dict = {\"MAMI\":{}, \"EXIST2024\":{}}\n",
    "\n",
    "for dataset in gold_label_dict:\n",
    "    for evaluation in [\"mami_f1\", \"PyEvALL\"]:\n",
    "        gold_label_dict[dataset][evaluation] = {}\n",
    "        gold_label_dict[dataset][evaluation] = {}\n",
    "        for split in [\"validation\",\"test\"]:\n",
    "            gold_label_dict[dataset][evaluation][\"validation\"] = {}\n",
    "            gold_label_dict[dataset][evaluation][\"test\"] = {}\n",
    "#MAMI\n",
    "\n",
    "#PyEvall\n",
    "#val\n",
    "gold_label_dict[\"MAMI\"][\"PyEvALL\"][\"validation\"][\"binary\"] = get_pyevall_evaluation_file(mami_val_df,\"misogynous\",mami_labels,\"MAMI\",\"binary\")\n",
    "gold_label_dict[\"MAMI\"][\"PyEvALL\"][\"validation\"][\"hierarchical\"] = get_pyevall_evaluation_file(mami_val_df,\"misogynous\",mami_labels,\"MAMI\",\"hierarchical\")\n",
    "gold_label_dict[\"MAMI\"][\"PyEvALL\"][\"validation\"][\"flat\"] = get_pyevall_evaluation_file(mami_val_df,\"misogynous\",mami_labels,\"MAMI\",\"flat\")\n",
    "#test\n",
    "gold_label_dict[\"MAMI\"][\"PyEvALL\"][\"test\"][\"binary\"] = get_pyevall_evaluation_file(mami_test_df,\"misogynous\",mami_labels,\"MAMI\",\"binary\")\n",
    "gold_label_dict[\"MAMI\"][\"PyEvALL\"][\"test\"][\"hierarchical\"] = get_pyevall_evaluation_file(mami_test_df,\"misogynous\",mami_labels,\"MAMI\",\"hierarchical\")\n",
    "gold_label_dict[\"MAMI\"][\"PyEvALL\"][\"test\"][\"flat\"] = get_pyevall_evaluation_file(mami_test_df,\"misogynous\",mami_labels,\"MAMI\",\"flat\")\n",
    "\n",
    "#MAMI F1\n",
    "#val\n",
    "gold_label_dict[\"MAMI\"][\"mami_f1\"][\"validation\"] = get_txt_evaluation_file_pred(mami_val_df,mami_labels)\n",
    "#test\n",
    "gold_label_dict[\"MAMI\"][\"mami_f1\"][\"test\"] = get_txt_evaluation_file_pred(mami_test_df,mami_labels)\n",
    "\n",
    "#EXIST2024\n",
    "\n",
    "#PyEvALL\n",
    "#val\n",
    "gold_label_dict[\"EXIST2024\"][\"PyEvALL\"][\"validation\"][\"binary\"] = get_pyevall_evaluation_file(exist_val_df,\"sexist\",exist_labels,\"EXIST2024\",\"binary\")\n",
    "gold_label_dict[\"EXIST2024\"][\"PyEvALL\"][\"validation\"][\"hierarchical\"] = get_pyevall_evaluation_file(exist_val_df,\"sexist\",exist_labels,\"EXIST2024\",\"hierarchical\")\n",
    "gold_label_dict[\"EXIST2024\"][\"PyEvALL\"][\"validation\"][\"flat\"] = get_pyevall_evaluation_file(exist_val_df,\"sexist\",exist_labels,\"EXIST2024\",\"flat\")\n",
    "#test\n",
    "gold_label_dict[\"EXIST2024\"][\"PyEvALL\"][\"test\"][\"binary\"] = get_pyevall_evaluation_file(exist_test_df,\"sexist\",exist_labels,\"EXIST2024\",\"binary\")\n",
    "gold_label_dict[\"EXIST2024\"][\"PyEvALL\"][\"test\"][\"hierarchical\"] = get_pyevall_evaluation_file(exist_test_df,\"sexist\",exist_labels,\"EXIST2024\",\"hierarchical\")\n",
    "gold_label_dict[\"EXIST2024\"][\"PyEvALL\"][\"test\"][\"flat\"] = get_pyevall_evaluation_file(exist_test_df,\"sexist\",exist_labels,\"EXIST2024\",\"flat\")\n",
    "\n",
    "#MAMI F1\n",
    "gold_label_dict[\"EXIST2024\"][\"mami_f1\"][\"validation\"] = get_txt_evaluation_file_pred(exist_val_df,exist_labels)\n",
    "#test\n",
    "gold_label_dict[\"EXIST2024\"][\"mami_f1\"][\"test\"] = get_txt_evaluation_file_pred(exist_test_df,exist_labels)"
   ]
  },
  {
   "cell_type": "code",
   "execution_count": 10,
   "metadata": {},
   "outputs": [
    {
     "name": "stdout",
     "output_type": "stream",
     "text": [
      "Saved MAMI validation split to ../models/evaluation/golds/MAMI/MAMI_validation_truth.txt\n",
      "Saved MAMI test split to ../models/evaluation/golds/MAMI/MAMI_test_truth.txt\n",
      "Saved MAMI validation split binary evaluation to ../models/evaluation/golds/MAMI/MAMI_validation_binary.json\n",
      "Saved MAMI validation split hierarchical evaluation to ../models/evaluation/golds/MAMI/MAMI_validation_hierarchical.json\n",
      "Saved MAMI validation split flat evaluation to ../models/evaluation/golds/MAMI/MAMI_validation_flat.json\n",
      "Saved MAMI test split binary evaluation to ../models/evaluation/golds/MAMI/MAMI_test_binary.json\n",
      "Saved MAMI test split hierarchical evaluation to ../models/evaluation/golds/MAMI/MAMI_test_hierarchical.json\n",
      "Saved MAMI test split flat evaluation to ../models/evaluation/golds/MAMI/MAMI_test_flat.json\n",
      "Saved EXIST2024 validation split to ../models/evaluation/golds/EXIST2024/EXIST2024_validation_truth.txt\n",
      "Saved EXIST2024 test split to ../models/evaluation/golds/EXIST2024/EXIST2024_test_truth.txt\n",
      "Saved EXIST2024 validation split binary evaluation to ../models/evaluation/golds/EXIST2024/EXIST2024_validation_binary.json\n",
      "Saved EXIST2024 validation split hierarchical evaluation to ../models/evaluation/golds/EXIST2024/EXIST2024_validation_hierarchical.json\n",
      "Saved EXIST2024 validation split flat evaluation to ../models/evaluation/golds/EXIST2024/EXIST2024_validation_flat.json\n",
      "Saved EXIST2024 test split binary evaluation to ../models/evaluation/golds/EXIST2024/EXIST2024_test_binary.json\n",
      "Saved EXIST2024 test split hierarchical evaluation to ../models/evaluation/golds/EXIST2024/EXIST2024_test_hierarchical.json\n",
      "Saved EXIST2024 test split flat evaluation to ../models/evaluation/golds/EXIST2024/EXIST2024_test_flat.json\n"
     ]
    }
   ],
   "source": [
    "for dataset_name, split in gold_label_dict.items():\n",
    "    for eval_metr, split_ in split.items():\n",
    "        for split_name, evaluation_dict in split_.items():\n",
    "            if eval_metr == \"mami_f1\":\n",
    "                output_file = f\"{new_dir}/{dataset_name}/{dataset_name}_{split_name}_truth.txt\"\n",
    "                write_labels_to_txt(evaluation_dict, output_file,dataset_name,split_name)\n",
    "            for evaluation_name, labels in evaluation_dict.items():\n",
    "                if eval_metr == \"PyEvALL\":\n",
    "                    #save the gold label list to a JSON file\n",
    "                    output_file = f\"{new_dir}/{dataset_name}/{dataset_name}_{split_name}_{evaluation_name}.json\"\n",
    "                    write_labels_to_json(labels,output_file,dataset_name,split_name,evaluation_name)\n"
   ]
  },
  {
   "cell_type": "markdown",
   "metadata": {},
   "source": [
    "# Gold labels for evaluation: Overlapping classes"
   ]
  },
  {
   "cell_type": "code",
   "execution_count": 7,
   "metadata": {},
   "outputs": [],
   "source": [
    "#MAMI datasets\n",
    "mami_val_df = load_dataset(\"MAMI\",data_dir=\"../data/overlapping_classes/MAMI\",split_name=\"validation\")\n",
    "mami_test_df = load_dataset(\"MAMI\",data_dir=\"../data/overlapping_classes/MAMI\",split_name=\"test\")\n",
    "\n",
    "#EXIST datasets\n",
    "exist_test_df = load_dataset(\"EXIST2024\",data_dir=\"../data/overlapping_classes/EXIST2024\",split_name=\"test\")\n",
    "exist_val_df = load_dataset(\"EXIST2024\",data_dir=\"../data/overlapping_classes/EXIST2024\",split_name=\"validation\")"
   ]
  },
  {
   "cell_type": "code",
   "execution_count": 8,
   "metadata": {},
   "outputs": [],
   "source": [
    "new_dir = \"../models/evaluation/overlapping_classes/golds\"\n",
    "datasets = [\"MAMI\",\"EXIST2024\"]\n",
    "for dataset in datasets:\n",
    "    if not os.path.exists(f\"{new_dir}/{dataset}\"):\n",
    "        os.makedirs(f\"{new_dir}/{dataset}\")"
   ]
  },
  {
   "cell_type": "code",
   "execution_count": 10,
   "metadata": {},
   "outputs": [],
   "source": [
    "mami_labels= [\"misogynous\", \"stereotype\",\"objectification\",\"violence\"]\n",
    "exist_labels = [\"sexist\",\"objectification\",\"sexual-violence\",\"stereotyping-dominance\"]\n",
    "#put the gold labels in a dict to save them all at once\n",
    "gold_label_dict = {\"MAMI\":{}, \"EXIST2024\":{}}\n",
    "\n",
    "for dataset in gold_label_dict:\n",
    "    for evaluation in [\"mami_f1\", \"PyEvALL\"]:\n",
    "        gold_label_dict[dataset][evaluation] = {}\n",
    "        gold_label_dict[dataset][evaluation] = {}\n",
    "        for split in [\"validation\",\"test\"]:\n",
    "            gold_label_dict[dataset][evaluation][\"validation\"] = {}\n",
    "            gold_label_dict[dataset][evaluation][\"test\"] = {}\n",
    "#MAMI\n",
    "\n",
    "#PyEvall\n",
    "#val\n",
    "gold_label_dict[\"MAMI\"][\"PyEvALL\"][\"validation\"][\"binary\"] = get_pyevall_evaluation_file(mami_val_df,\"misogynous\",mami_labels,\"MAMI\",\"binary\")\n",
    "gold_label_dict[\"MAMI\"][\"PyEvALL\"][\"validation\"][\"hierarchical\"] = get_pyevall_evaluation_file(mami_val_df,\"misogynous\",mami_labels,\"MAMI\",\"hierarchical\")\n",
    "gold_label_dict[\"MAMI\"][\"PyEvALL\"][\"validation\"][\"flat\"] = get_pyevall_evaluation_file(mami_val_df,\"misogynous\",mami_labels,\"MAMI\",\"flat\")\n",
    "#test\n",
    "gold_label_dict[\"MAMI\"][\"PyEvALL\"][\"test\"][\"binary\"] = get_pyevall_evaluation_file(mami_test_df,\"misogynous\",mami_labels,\"MAMI\",\"binary\")\n",
    "gold_label_dict[\"MAMI\"][\"PyEvALL\"][\"test\"][\"hierarchical\"] = get_pyevall_evaluation_file(mami_test_df,\"misogynous\",mami_labels,\"MAMI\",\"hierarchical\")\n",
    "gold_label_dict[\"MAMI\"][\"PyEvALL\"][\"test\"][\"flat\"] = get_pyevall_evaluation_file(mami_test_df,\"misogynous\",mami_labels,\"MAMI\",\"flat\")\n",
    "\n",
    "#MAMI F1\n",
    "#val\n",
    "gold_label_dict[\"MAMI\"][\"mami_f1\"][\"validation\"] = get_txt_evaluation_file_pred(mami_val_df,mami_labels)\n",
    "#test\n",
    "gold_label_dict[\"MAMI\"][\"mami_f1\"][\"test\"] = get_txt_evaluation_file_pred(mami_test_df,mami_labels)\n",
    "\n",
    "#EXIST2024\n",
    "\n",
    "#PyEvALL\n",
    "#val\n",
    "gold_label_dict[\"EXIST2024\"][\"PyEvALL\"][\"validation\"][\"binary\"] = get_pyevall_evaluation_file(exist_val_df,\"sexist\",exist_labels,\"EXIST2024\",\"binary\")\n",
    "gold_label_dict[\"EXIST2024\"][\"PyEvALL\"][\"validation\"][\"hierarchical\"] = get_pyevall_evaluation_file(exist_val_df,\"sexist\",exist_labels,\"EXIST2024\",\"hierarchical\")\n",
    "gold_label_dict[\"EXIST2024\"][\"PyEvALL\"][\"validation\"][\"flat\"] = get_pyevall_evaluation_file(exist_val_df,\"sexist\",exist_labels,\"EXIST2024\",\"flat\")\n",
    "#test\n",
    "gold_label_dict[\"EXIST2024\"][\"PyEvALL\"][\"test\"][\"binary\"] = get_pyevall_evaluation_file(exist_test_df,\"sexist\",exist_labels,\"EXIST2024\",\"binary\")\n",
    "gold_label_dict[\"EXIST2024\"][\"PyEvALL\"][\"test\"][\"hierarchical\"] = get_pyevall_evaluation_file(exist_test_df,\"sexist\",exist_labels,\"EXIST2024\",\"hierarchical\")\n",
    "gold_label_dict[\"EXIST2024\"][\"PyEvALL\"][\"test\"][\"flat\"] = get_pyevall_evaluation_file(exist_test_df,\"sexist\",exist_labels,\"EXIST2024\",\"flat\")\n",
    "\n",
    "#MAMI F1\n",
    "gold_label_dict[\"EXIST2024\"][\"mami_f1\"][\"validation\"] = get_txt_evaluation_file_pred(exist_val_df,exist_labels)\n",
    "#test\n",
    "gold_label_dict[\"EXIST2024\"][\"mami_f1\"][\"test\"] = get_txt_evaluation_file_pred(exist_test_df,exist_labels)"
   ]
  },
  {
   "cell_type": "code",
   "execution_count": 11,
   "metadata": {},
   "outputs": [
    {
     "name": "stdout",
     "output_type": "stream",
     "text": [
      "Saved MAMI validation split to ../models/evaluation/overlapping_classes/golds/MAMI/MAMI_validation_truth.txt\n",
      "Saved MAMI test split to ../models/evaluation/overlapping_classes/golds/MAMI/MAMI_test_truth.txt\n",
      "Saved MAMI validation split binary evaluation to ../models/evaluation/overlapping_classes/golds/MAMI/MAMI_validation_binary.json\n",
      "Saved MAMI validation split hierarchical evaluation to ../models/evaluation/overlapping_classes/golds/MAMI/MAMI_validation_hierarchical.json\n",
      "Saved MAMI validation split flat evaluation to ../models/evaluation/overlapping_classes/golds/MAMI/MAMI_validation_flat.json\n",
      "Saved MAMI test split binary evaluation to ../models/evaluation/overlapping_classes/golds/MAMI/MAMI_test_binary.json\n",
      "Saved MAMI test split hierarchical evaluation to ../models/evaluation/overlapping_classes/golds/MAMI/MAMI_test_hierarchical.json\n",
      "Saved MAMI test split flat evaluation to ../models/evaluation/overlapping_classes/golds/MAMI/MAMI_test_flat.json\n",
      "Saved EXIST2024 validation split to ../models/evaluation/overlapping_classes/golds/EXIST2024/EXIST2024_validation_truth.txt\n",
      "Saved EXIST2024 test split to ../models/evaluation/overlapping_classes/golds/EXIST2024/EXIST2024_test_truth.txt\n",
      "Saved EXIST2024 validation split binary evaluation to ../models/evaluation/overlapping_classes/golds/EXIST2024/EXIST2024_validation_binary.json\n",
      "Saved EXIST2024 validation split hierarchical evaluation to ../models/evaluation/overlapping_classes/golds/EXIST2024/EXIST2024_validation_hierarchical.json\n",
      "Saved EXIST2024 validation split flat evaluation to ../models/evaluation/overlapping_classes/golds/EXIST2024/EXIST2024_validation_flat.json\n",
      "Saved EXIST2024 test split binary evaluation to ../models/evaluation/overlapping_classes/golds/EXIST2024/EXIST2024_test_binary.json\n",
      "Saved EXIST2024 test split hierarchical evaluation to ../models/evaluation/overlapping_classes/golds/EXIST2024/EXIST2024_test_hierarchical.json\n",
      "Saved EXIST2024 test split flat evaluation to ../models/evaluation/overlapping_classes/golds/EXIST2024/EXIST2024_test_flat.json\n"
     ]
    }
   ],
   "source": [
    "for dataset_name, split in gold_label_dict.items():\n",
    "    for eval_metr, split_ in split.items():\n",
    "        for split_name, evaluation_dict in split_.items():\n",
    "            if eval_metr == \"mami_f1\":\n",
    "                output_file = f\"{new_dir}/{dataset_name}/{dataset_name}_{split_name}_truth.txt\"\n",
    "                write_labels_to_txt(evaluation_dict, output_file,dataset_name,split_name)\n",
    "            for evaluation_name, labels in evaluation_dict.items():\n",
    "                if eval_metr == \"PyEvALL\":\n",
    "                    #save the gold label list to a JSON file\n",
    "                    output_file = f\"{new_dir}/{dataset_name}/{dataset_name}_{split_name}_{evaluation_name}.json\"\n",
    "                    write_labels_to_json(labels,output_file,dataset_name,split_name,evaluation_name)\n"
   ]
  },
  {
   "cell_type": "code",
   "execution_count": null,
   "metadata": {},
   "outputs": [],
   "source": []
  }
 ],
 "metadata": {
  "kernelspec": {
   "display_name": "base",
   "language": "python",
   "name": "python3"
  },
  "language_info": {
   "codemirror_mode": {
    "name": "ipython",
    "version": 3
   },
   "file_extension": ".py",
   "mimetype": "text/x-python",
   "name": "python",
   "nbconvert_exporter": "python",
   "pygments_lexer": "ipython3",
   "version": "3.13.4"
  }
 },
 "nbformat": 4,
 "nbformat_minor": 2
}
