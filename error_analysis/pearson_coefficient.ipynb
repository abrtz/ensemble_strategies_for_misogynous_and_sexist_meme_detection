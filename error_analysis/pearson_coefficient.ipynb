{
 "cells": [
  {
   "cell_type": "code",
   "execution_count": 1,
   "metadata": {},
   "outputs": [],
   "source": [
    "import pandas as pd\n",
    "from utils_error_analysis import *"
   ]
  },
  {
   "cell_type": "markdown",
   "metadata": {},
   "source": [
    "# In-Domain"
   ]
  },
  {
   "cell_type": "markdown",
   "metadata": {},
   "source": [
    "MAMI - Binary"
   ]
  },
  {
   "cell_type": "code",
   "execution_count": 2,
   "metadata": {},
   "outputs": [],
   "source": [
    "#test labels\n",
    "mami_test_df = pd.read_json(\"../data/MAMI/MAMI_test.json\",orient='index')\n",
    "y_test = mami_test_df['misogynous'].to_numpy()\n",
    "\n",
    "#individual predictions\n",
    "bin_label = \"misogynous_prediction\"\n",
    "#model predictions\n",
    "y_style_emo = pd.read_csv(\"../models/output/MAMI/svm_stylometric_emotion_MAMI_test_binary.csv\")[bin_label].to_numpy()\n",
    "y_roberta = pd.read_csv(\"../models/output/MAMI/roberta_MAMI_test_binary.csv\")[bin_label].to_numpy()\n",
    "y_multimodal = pd.read_csv(\"../models/output/MAMI/multimodal_roberta_swin_MAMI_test_binary.csv\")[bin_label].to_numpy()\n",
    "y_ensemble = pd.read_csv(\"../models/output/MAMI/ensemble_svm_roberta_robertaswin_MAMI_test_binary.csv\")[bin_label].to_numpy()"
   ]
  },
  {
   "cell_type": "code",
   "execution_count": 3,
   "metadata": {},
   "outputs": [
    {
     "name": "stdout",
     "output_type": "stream",
     "text": [
      "Pearson r\n",
      "\n",
      "SVM style emo   vs RoBERTa         | Pearson r: 0.52\n",
      "------------------------------\n",
      "SVM style emo   vs RoBERTa+Swin V2 | Pearson r: 0.44\n",
      "------------------------------\n",
      "RoBERTa         vs RoBERTa+Swin V2 | Pearson r: 0.58\n",
      "------------------------------\n",
      "------------------------------ \n",
      "McNemar test\n",
      "\n",
      "Ensemble vs RoBERTa\n",
      "\n",
      "McNemar Test:\n",
      "McNemar Statistic: 1.27\n",
      "p-value: 0.2606\n",
      "Significant difference: no\n",
      "------------------------------\n"
     ]
    }
   ],
   "source": [
    "mami_in_domain_preds_binary = {\n",
    "    \"SVM style emo\":y_style_emo,\n",
    "    \"RoBERTa\":y_roberta,\n",
    "    \"RoBERTa+Swin V2\":y_multimodal\n",
    "}\n",
    "print(\"Pearson r\\n\")\n",
    "get_pearson_correlations(mami_in_domain_preds_binary,[])\n",
    "\n",
    "best_mami_binary_indomain = {\n",
    "    \"RoBERTa\":y_roberta,\n",
    "    \"Ensemble\":y_ensemble\n",
    "}\n",
    "print(\"-\"*30,\"\\nMcNemar test\\n\")\n",
    "get_mcnemar_significance(y_test,best_mami_binary_indomain,[])"
   ]
  },
  {
   "cell_type": "code",
   "execution_count": 4,
   "metadata": {},
   "outputs": [
    {
     "name": "stdout",
     "output_type": "stream",
     "text": [
      "SVM stle emo - in-domain\n",
      "FPR: 0.53\n",
      "PPV: 0.62\n",
      "------------------------------\n",
      "RoBERTa - in-domain\n",
      "FPR: 0.45\n",
      "PPV: 0.66\n",
      "------------------------------\n",
      "RoBERTa+Swin V2 - in-domain\n",
      "FPR: 0.57\n",
      "PPV: 0.62\n",
      "------------------------------\n",
      "Ensemble - in-domain\n",
      "FPR: 0.52\n",
      "PPV: 0.64\n",
      "------------------------------\n"
     ]
    }
   ],
   "source": [
    "model_names = [\"SVM stle emo\",\"RoBERTa\",\"RoBERTa+Swin V2\",\"Ensemble\"]\n",
    "predictions = [y_style_emo,y_roberta,y_multimodal,y_ensemble]\n",
    "\n",
    "for model, prediction_list in zip (model_names,predictions):\n",
    "    get_fpr_ppv(y_test,prediction_list,model,[])\n",
    "    print(\"-\"*30)"
   ]
  },
  {
   "cell_type": "markdown",
   "metadata": {},
   "source": [
    "MAMI - Multi-label"
   ]
  },
  {
   "cell_type": "code",
   "execution_count": 5,
   "metadata": {},
   "outputs": [],
   "source": [
    "mami_label_names = [\"misogynous\",\"shaming\",\"stereotype\",\"objectification\",\"violence\"]\n",
    "mami_test_df = pd.read_json(\"../data/MAMI/MAMI_test.json\",orient='index')\n",
    "y_test = mami_test_df[mami_label_names].to_numpy()"
   ]
  },
  {
   "cell_type": "code",
   "execution_count": 7,
   "metadata": {},
   "outputs": [],
   "source": [
    "#model predictions\n",
    "pred_labels = [f\"{label}_prediction\" for label in mami_label_names]\n",
    "y_style_emo = pd.read_csv(\"../models/output/MAMI/roberta_first_step/svm_stylometric_emotion_w_roberta_MAMI_test_hierarchical.csv\")[pred_labels].to_numpy()\n",
    "y_roberta = pd.read_csv(\"../models/output/MAMI/roberta_first_step/roberta_MAMI_test_hierarchical.csv\")[pred_labels].to_numpy()\n",
    "y_multimodal = pd.read_csv(\"../models/output/MAMI/roberta_first_step/multimodal_roberta_swin_MAMI_test_hierarchical.csv\")[pred_labels].to_numpy()\n",
    "y_ensemble = pd.read_csv(\"../models/output/MAMI/roberta_first_step/ensemble_svm_roberta_robertaswin_hier_ens_MAMI_test_hierarchical.csv\")[pred_labels].to_numpy()"
   ]
  },
  {
   "cell_type": "code",
   "execution_count": 8,
   "metadata": {},
   "outputs": [
    {
     "name": "stdout",
     "output_type": "stream",
     "text": [
      "Pearson r\n",
      "\n",
      "SVM style emo vs RoBERTa\n",
      "  Label shaming              | Pearson r: 0.37\n",
      "  Label stereotype           | Pearson r: 0.56\n",
      "  Label objectification      | Pearson r: 0.58\n",
      "  Label violence             | Pearson r: 0.59\n",
      "  Average all               | Pearson r: 0.52\n",
      "\n",
      "------------------------------\n",
      "SVM style emo vs RoBERTa+Swin V2\n",
      "  Label shaming              | Pearson r: 0.30\n",
      "  Label stereotype           | Pearson r: 0.54\n",
      "  Label objectification      | Pearson r: 0.52\n",
      "  Label violence             | Pearson r: 0.51\n",
      "  Average all               | Pearson r: 0.47\n",
      "\n",
      "------------------------------\n",
      "RoBERTa vs RoBERTa+Swin V2\n",
      "  Label shaming              | Pearson r: 0.53\n",
      "  Label stereotype           | Pearson r: 0.65\n",
      "  Label objectification      | Pearson r: 0.70\n",
      "  Label violence             | Pearson r: 0.68\n",
      "  Average all               | Pearson r: 0.64\n",
      "\n",
      "------------------------------\n",
      "------------------------------ \n",
      "McNemar test\n",
      "\n",
      "Ensemble vs RoBERTa+Swin V2\n",
      "  Label misogynous           | Stat: inf   | p-value: 0.0000 | Significant difference: yes\n",
      "  Label shaming              | Stat: 2.61  | p-value: 0.1060 | Significant difference: no\n",
      "  Label stereotype           | Stat: 1.44  | p-value: 0.2301 | Significant difference: no\n",
      "  Label objectification      | Stat: 2.28  | p-value: 0.1307 | Significant difference: no\n",
      "  Label violence             | Stat: 2.04  | p-value: 0.1531 | Significant difference: no\n",
      "\n",
      "  Average statistic        | inf\n",
      "  Average p-value          | 0.1240\n",
      "  Significant labels (<0.05) | 1 / 5\n",
      "  Average significant difference no\n",
      "------------------------------\n"
     ]
    },
    {
     "name": "stderr",
     "output_type": "stream",
     "text": [
      "/Users/arianabritez/anaconda3/envs/thesis/lib/python3.13/site-packages/statsmodels/stats/contingency_tables.py:1348: RuntimeWarning: divide by zero encountered in scalar divide\n",
      "  statistic = (np.abs(n1 - n2) - corr)**2 / (1. * (n1 + n2))\n"
     ]
    }
   ],
   "source": [
    "mami_in_domain_preds_multilabel = {\n",
    "    \"SVM style emo\":y_style_emo,\n",
    "    \"RoBERTa\":y_roberta,\n",
    "    \"RoBERTa+Swin V2\":y_multimodal\n",
    "}\n",
    "print(\"Pearson r\\n\")\n",
    "get_pearson_correlations(mami_in_domain_preds_multilabel,mami_label_names)\n",
    "\n",
    "best_mami_multilabel_indomain = {\n",
    "    \"RoBERTa+Swin V2\":y_multimodal,\n",
    "    \"Ensemble\":y_ensemble\n",
    "}\n",
    "print(\"-\"*30,\"\\nMcNemar test\\n\")\n",
    "get_mcnemar_significance(y_test,best_mami_multilabel_indomain,mami_label_names)"
   ]
  },
  {
   "cell_type": "markdown",
   "metadata": {},
   "source": [
    "EXIST 2024 - Binary"
   ]
  },
  {
   "cell_type": "code",
   "execution_count": 8,
   "metadata": {},
   "outputs": [],
   "source": [
    "#test labels\n",
    "exist_test_df = pd.read_json(\"../data/EXIST2024/EXIST2024_test.json\",orient='index')\n",
    "y_test = exist_test_df['sexist'].to_numpy()"
   ]
  },
  {
   "cell_type": "code",
   "execution_count": 9,
   "metadata": {},
   "outputs": [],
   "source": [
    "bin_label = \"sexist_prediction\"\n",
    "#model predictions\n",
    "y_style_emo = pd.read_csv(\"../models/output/EXIST2024/svm_stylometric_emotion_EXIST2024_test_binary.csv\")[bin_label].to_numpy()\n",
    "y_roberta = pd.read_csv(\"../models/output/EXIST2024/roberta_EXIST2024_test_binary.csv\")[bin_label].to_numpy()\n",
    "y_multimodal = pd.read_csv(\"../models/output/EXIST2024/multimodal_roberta_swin_EXIST2024_test_binary.csv\")[bin_label].to_numpy()\n",
    "y_ensemble = pd.read_csv(\"../models/output/EXIST2024/ensemble_svm_roberta_robertaswin_EXIST2024_test_binary.csv\")[bin_label].to_numpy()"
   ]
  },
  {
   "cell_type": "code",
   "execution_count": 10,
   "metadata": {},
   "outputs": [
    {
     "name": "stdout",
     "output_type": "stream",
     "text": [
      "Pearson r\n",
      "\n",
      "SVM stle emo    vs RoBERTa         | Pearson r: 0.40\n",
      "------------------------------\n",
      "SVM stle emo    vs RoBERTa+Swin V2 | Pearson r: 0.30\n",
      "------------------------------\n",
      "RoBERTa         vs RoBERTa+Swin V2 | Pearson r: 0.68\n",
      "------------------------------\n",
      "------------------------------ \n",
      "McNemar test\n",
      "\n",
      "Ensemble vs RoBERTa+Swin V2\n",
      "\n",
      "McNemar Test:\n",
      "McNemar Statistic: 0.06\n",
      "p-value: 0.8137\n",
      "Significant difference: no\n",
      "------------------------------\n"
     ]
    }
   ],
   "source": [
    "exist_in_domain_preds_binary = {\n",
    "    \"SVM stle emo\":y_style_emo,\n",
    "    \"RoBERTa\":y_roberta,\n",
    "    \"RoBERTa+Swin V2\":y_multimodal\n",
    "}\n",
    "print(\"Pearson r\\n\")\n",
    "get_pearson_correlations(exist_in_domain_preds_binary,[])\n",
    "\n",
    "best_exist_binary_indomain = {\n",
    "    \"RoBERTa+Swin V2\":y_multimodal,\n",
    "    \"Ensemble\":y_ensemble\n",
    "}\n",
    "print(\"-\"*30,\"\\nMcNemar test\\n\")\n",
    "get_mcnemar_significance(y_test,best_exist_binary_indomain,[])"
   ]
  },
  {
   "cell_type": "markdown",
   "metadata": {},
   "source": [
    "EXIST 2024 - Multi-label"
   ]
  },
  {
   "cell_type": "code",
   "execution_count": 11,
   "metadata": {},
   "outputs": [],
   "source": [
    "#test labels\n",
    "exist_label_names = [\"sexist\",\"ideological-inequality\",\"stereotyping-dominance\",\"objectification\", \"sexual-violence\", \"misogyny-non-sexual-violence\"]\n",
    "exist_test_df = pd.read_json(\"../data/EXIST2024/EXIST2024_test.json\",orient='index')\n",
    "y_test = exist_test_df[exist_label_names].to_numpy()"
   ]
  },
  {
   "cell_type": "code",
   "execution_count": 12,
   "metadata": {},
   "outputs": [],
   "source": [
    "#model predictions\n",
    "pred_labels = [f\"{label}_prediction\" for label in exist_label_names]\n",
    "y_style_emo = pd.read_csv(\"../models/output/EXIST2024/ensemble_first_step/svm_stylometric_emotion_w_ensemble_EXIST2024_test_hierarchical.csv\")[pred_labels].to_numpy()\n",
    "y_roberta = pd.read_csv(\"../models/output/EXIST2024/ensemble_first_step/roberta_EXIST2024_test_hierarchical.csv\")[pred_labels].to_numpy()\n",
    "y_multimodal = pd.read_csv(\"../models/output/EXIST2024/ensemble_first_step/multimodal_roberta_swin_EXIST2024_test_hierarchical.csv\")[pred_labels].to_numpy()\n",
    "y_ensemble = pd.read_csv(\"../models/output/EXIST2024/ensemble_first_step/ensemble_svm_roberta_robertaswin_hier_ens_EXIST2024_test_hierarchical.csv\")[pred_labels].to_numpy()\n"
   ]
  },
  {
   "cell_type": "code",
   "execution_count": 13,
   "metadata": {},
   "outputs": [
    {
     "name": "stdout",
     "output_type": "stream",
     "text": [
      "Pearson r\n",
      "\n",
      "SVM stle emo vs RoBERTa\n",
      "  Label ideological-inequality | Pearson r: 0.73\n",
      "  Label stereotyping-dominance | Pearson r: 0.42\n",
      "  Label objectification      | Pearson r: 0.63\n",
      "  Label sexual-violence      | Pearson r: 0.37\n",
      "  Label misogyny-non-sexual-violence | Pearson r: 0.32\n",
      "  Average all               | Pearson r: 0.49\n",
      "\n",
      "------------------------------\n",
      "SVM stle emo vs RoBERTa+Swin V2\n",
      "  Label ideological-inequality | Pearson r: 0.72\n",
      "  Label stereotyping-dominance | Pearson r: 0.49\n",
      "  Label objectification      | Pearson r: 0.68\n",
      "  Label sexual-violence      | Pearson r: 0.27\n",
      "  Label misogyny-non-sexual-violence | Pearson r: 0.50\n",
      "  Average all               | Pearson r: 0.53\n",
      "\n",
      "------------------------------\n",
      "RoBERTa vs RoBERTa+Swin V2\n",
      "  Label ideological-inequality | Pearson r: 0.77\n",
      "  Label stereotyping-dominance | Pearson r: 0.56\n",
      "  Label objectification      | Pearson r: 0.71\n",
      "  Label sexual-violence      | Pearson r: 0.65\n",
      "  Label misogyny-non-sexual-violence | Pearson r: 0.26\n",
      "  Average all               | Pearson r: 0.59\n",
      "\n",
      "------------------------------\n",
      "------------------------------ \n",
      "McNemar test\n",
      "\n",
      "Ensemble vs RoBERTa\n",
      "  Label sexist               | Stat: inf   | p-value: 0.0000 | Significant difference: yes\n",
      "  Label ideological-inequality | Stat: 0.00  | p-value: 1.0000 | Significant difference: no\n",
      "  Label stereotyping-dominance | Stat: 0.50  | p-value: 0.4795 | Significant difference: no\n",
      "  Label objectification      | Stat: 0.08  | p-value: 0.7728 | Significant difference: no\n",
      "  Label sexual-violence      | Stat: 0.80  | p-value: 0.3711 | Significant difference: no\n",
      "  Label misogyny-non-sexual-violence | Stat: 1.79  | p-value: 0.1814 | Significant difference: no\n",
      "\n",
      "  Average statistic        | inf\n",
      "  Average p-value          | 0.4675\n",
      "  Significant labels (<0.05) | 1 / 6\n",
      "  Average significant difference no\n",
      "------------------------------\n"
     ]
    },
    {
     "name": "stderr",
     "output_type": "stream",
     "text": [
      "/Users/arianabritez/anaconda3/envs/thesis/lib/python3.13/site-packages/statsmodels/stats/contingency_tables.py:1348: RuntimeWarning: divide by zero encountered in scalar divide\n",
      "  statistic = (np.abs(n1 - n2) - corr)**2 / (1. * (n1 + n2))\n"
     ]
    }
   ],
   "source": [
    "exist_in_domain_preds_multilabel = {\n",
    "    \"SVM stle emo\":y_style_emo,\n",
    "    \"RoBERTa\":y_roberta,\n",
    "    \"RoBERTa+Swin V2\":y_multimodal\n",
    "}\n",
    "print(\"Pearson r\\n\")\n",
    "get_pearson_correlations(exist_in_domain_preds_multilabel,exist_label_names)\n",
    "\n",
    "best_exist_multilabel_indomain = {\n",
    "    \"RoBERTa\":y_roberta,\n",
    "    \"Ensemble\":y_ensemble\n",
    "}\n",
    "print(\"-\"*30,\"\\nMcNemar test\\n\")\n",
    "get_mcnemar_significance(y_test,best_exist_multilabel_indomain,exist_label_names)"
   ]
  },
  {
   "cell_type": "markdown",
   "metadata": {},
   "source": [
    "# Cross-Dataset"
   ]
  },
  {
   "cell_type": "markdown",
   "metadata": {},
   "source": [
    "MAMI - Binary"
   ]
  },
  {
   "cell_type": "code",
   "execution_count": 14,
   "metadata": {},
   "outputs": [],
   "source": [
    "#test labels\n",
    "mami_test_df = pd.read_json(\"../data/overlapping_classes/MAMI/MAMI_test.json\",orient='index')\n",
    "y_test = mami_test_df['misogynous'].to_numpy()"
   ]
  },
  {
   "cell_type": "code",
   "execution_count": 15,
   "metadata": {},
   "outputs": [],
   "source": [
    "bin_label = \"misogynous_prediction\"\n",
    "#model predictions\n",
    "y_style_emo = pd.read_csv(\"../models/output/cross_dataset/MAMI/svm_stylometric_emotion_MAMI_test_binary.csv\")[bin_label].to_numpy()\n",
    "y_roberta = pd.read_csv(\"../models/output/cross_dataset/MAMI/roberta_MAMI_test_binary.csv\")[bin_label].to_numpy()\n",
    "y_multimodal = pd.read_csv(\"../models/output/cross_dataset/MAMI/multimodal_roberta_swin_MAMI_test_binary.csv\")[bin_label].to_numpy()\n",
    "y_ensemble = pd.read_csv(\"../models/output/cross_dataset/MAMI/ensemble_svm_roberta_robertaswin_MAMI_test_binary.csv\")[bin_label].to_numpy()"
   ]
  },
  {
   "cell_type": "code",
   "execution_count": 16,
   "metadata": {},
   "outputs": [
    {
     "name": "stdout",
     "output_type": "stream",
     "text": [
      "Pearson r\n",
      "\n",
      "SVM stle emo    vs RoBERTa         | Pearson r: 0.36\n",
      "------------------------------\n",
      "SVM stle emo    vs RoBERTa+Swin V2 | Pearson r: 0.34\n",
      "------------------------------\n",
      "RoBERTa         vs RoBERTa+Swin V2 | Pearson r: 0.54\n",
      "------------------------------\n",
      "------------------------------ \n",
      "McNemar test\n",
      "\n",
      "Ensemble vs RoBERTa+Swin V2\n",
      "\n",
      "McNemar Test:\n",
      "McNemar Statistic: 0.04\n",
      "p-value: 0.8494\n",
      "Significant difference: no\n",
      "------------------------------\n"
     ]
    }
   ],
   "source": [
    "mami_crossdataset_preds_binary = {\n",
    "    \"SVM stle emo\":y_style_emo,\n",
    "    \"RoBERTa\":y_roberta,\n",
    "    \"RoBERTa+Swin V2\":y_multimodal\n",
    "}\n",
    "print(\"Pearson r\\n\")\n",
    "get_pearson_correlations(mami_crossdataset_preds_binary,[])\n",
    "\n",
    "best_mami_binary_crossdataset = {\n",
    "    \"RoBERTa+Swin V2\":y_multimodal,\n",
    "    \"Ensemble\":y_ensemble\n",
    "}\n",
    "print(\"-\"*30,\"\\nMcNemar test\\n\")\n",
    "get_mcnemar_significance(y_test,best_mami_binary_crossdataset,[])"
   ]
  },
  {
   "cell_type": "markdown",
   "metadata": {},
   "source": [
    "MAMI - Multi-label"
   ]
  },
  {
   "cell_type": "code",
   "execution_count": 17,
   "metadata": {},
   "outputs": [],
   "source": [
    "#test labels\n",
    "mami_label_names = [\"misogynous\",\"stereotype\",\"objectification\",\"violence\"]\n",
    "mami_test_df = pd.read_json(\"../data/overlapping_classes/MAMI/MAMI_test.json\",orient='index')\n",
    "y_test = mami_test_df[mami_label_names].to_numpy()"
   ]
  },
  {
   "cell_type": "code",
   "execution_count": 18,
   "metadata": {},
   "outputs": [],
   "source": [
    "#model predictions\n",
    "pred_labels = [f\"{label}_prediction\" for label in mami_label_names]\n",
    "y_style_emo = pd.read_csv(\"../models/output/cross_dataset/MAMI/ensemble_first_step/svm_stylometric_emotion_w_ensemble_MAMI_test_hierarchical.csv\")[pred_labels].to_numpy()\n",
    "y_roberta = pd.read_csv(\"../models/output/cross_dataset/MAMI/ensemble_first_step/roberta_MAMI_test_hierarchical.csv\")[pred_labels].to_numpy()\n",
    "y_multimodal = pd.read_csv(\"../models/output/cross_dataset/MAMI/ensemble_first_step/multimodal_roberta_swin_MAMI_test_hierarchical.csv\")[pred_labels].to_numpy()\n",
    "y_ensemble = pd.read_csv(\"../models/output/cross_dataset/MAMI/ensemble_first_step/ensemble_svm_roberta_robertaswin_hier_ens_MAMI_test_hierarchical.csv\")[pred_labels].to_numpy()"
   ]
  },
  {
   "cell_type": "code",
   "execution_count": 19,
   "metadata": {},
   "outputs": [
    {
     "name": "stdout",
     "output_type": "stream",
     "text": [
      "Pearson r\n",
      "\n",
      "SVM stle emo vs RoBERTa\n",
      "  Label stereotype           | Pearson r: 0.59\n",
      "  Label objectification      | Pearson r: 0.61\n",
      "  Label violence             | Pearson r: 0.21\n",
      "  Average all               | Pearson r: 0.47\n",
      "\n",
      "------------------------------\n",
      "SVM stle emo vs RoBERTa+Swin V2\n",
      "  Label stereotype           | Pearson r: 0.53\n",
      "  Label objectification      | Pearson r: 0.59\n",
      "  Label violence             | Pearson r: 0.33\n",
      "  Average all               | Pearson r: 0.48\n",
      "\n",
      "------------------------------\n",
      "RoBERTa vs RoBERTa+Swin V2\n",
      "  Label stereotype           | Pearson r: 0.57\n",
      "  Label objectification      | Pearson r: 0.71\n",
      "  Label violence             | Pearson r: 0.35\n",
      "  Average all               | Pearson r: 0.54\n",
      "\n",
      "------------------------------\n",
      "------------------------------ \n",
      "McNemar test\n",
      "\n",
      "Ensemble vs RoBERTa+Swin V2\n",
      "  Label misogynous           | Stat: inf   | p-value: 0.0000 | Significant difference: yes\n",
      "  Label stereotype           | Stat: 2.19  | p-value: 0.1391 | Significant difference: no\n",
      "  Label objectification      | Stat: 1.12  | p-value: 0.2888 | Significant difference: no\n",
      "  Label violence             | Stat: 1.69  | p-value: 0.1930 | Significant difference: no\n",
      "\n",
      "  Average statistic        | inf\n",
      "  Average p-value          | 0.1552\n",
      "  Significant labels (<0.05) | 1 / 4\n",
      "  Average significant difference no\n",
      "------------------------------\n"
     ]
    },
    {
     "name": "stderr",
     "output_type": "stream",
     "text": [
      "/Users/arianabritez/anaconda3/envs/thesis/lib/python3.13/site-packages/statsmodels/stats/contingency_tables.py:1348: RuntimeWarning: divide by zero encountered in scalar divide\n",
      "  statistic = (np.abs(n1 - n2) - corr)**2 / (1. * (n1 + n2))\n"
     ]
    }
   ],
   "source": [
    "mami_crossdataset_preds_multilabel = {\n",
    "    \"SVM stle emo\":y_style_emo,\n",
    "    \"RoBERTa\":y_roberta,\n",
    "    \"RoBERTa+Swin V2\":y_multimodal\n",
    "}\n",
    "print(\"Pearson r\\n\")\n",
    "get_pearson_correlations(mami_crossdataset_preds_multilabel,mami_label_names)\n",
    "\n",
    "best_mami_multilabel_crossdataset = {\n",
    "     \"RoBERTa+Swin V2\":y_multimodal,\n",
    "    \"Ensemble\":y_ensemble\n",
    "}\n",
    "print(\"-\"*30,\"\\nMcNemar test\\n\")\n",
    "get_mcnemar_significance(y_test,best_mami_multilabel_crossdataset,mami_label_names)"
   ]
  },
  {
   "cell_type": "markdown",
   "metadata": {},
   "source": [
    "EXIST - Binary"
   ]
  },
  {
   "cell_type": "code",
   "execution_count": 20,
   "metadata": {},
   "outputs": [],
   "source": [
    "#test labels\n",
    "exist_test_df = pd.read_json(\"../data/overlapping_classes/EXIST2024/EXIST2024_test.json\",orient='index')\n",
    "y_test = exist_test_df['sexist'].to_numpy()"
   ]
  },
  {
   "cell_type": "code",
   "execution_count": 21,
   "metadata": {},
   "outputs": [],
   "source": [
    "bin_label = \"sexist_prediction\"\n",
    "#model predictions\n",
    "y_style_emo = pd.read_csv(\"../models/output/cross_dataset/EXIST2024/svm_stylometric_emotion_EXIST2024_test_binary.csv\")[bin_label].to_numpy()\n",
    "y_roberta = pd.read_csv(\"../models/output/cross_dataset/EXIST2024/roberta_EXIST2024_test_binary.csv\")[bin_label].to_numpy()\n",
    "y_multimodal = pd.read_csv(\"../models/output/cross_dataset/EXIST2024/multimodal_roberta_swin_EXIST2024_test_binary.csv\")[bin_label].to_numpy()\n",
    "y_ensemble = pd.read_csv(\"../models/output/cross_dataset/EXIST2024/ensemble_svm_roberta_robertaswin_EXIST2024_test_binary.csv\")[bin_label].to_numpy()"
   ]
  },
  {
   "cell_type": "code",
   "execution_count": 22,
   "metadata": {},
   "outputs": [
    {
     "name": "stdout",
     "output_type": "stream",
     "text": [
      "Pearson r\n",
      "\n",
      "SVM stle emo    vs RoBERTa         | Pearson r: 0.39\n",
      "------------------------------\n",
      "SVM stle emo    vs RoBERTa+Swin V2 | Pearson r: 0.27\n",
      "------------------------------\n",
      "RoBERTa         vs RoBERTa+Swin V2 | Pearson r: 0.61\n",
      "------------------------------\n",
      "------------------------------ \n",
      "McNemar test\n",
      "\n",
      "Ensemble vs RoBERTa\n",
      "\n",
      "McNemar Test:\n",
      "McNemar Statistic: 0.10\n",
      "p-value: 0.7518\n",
      "Significant difference: no\n",
      "------------------------------\n"
     ]
    }
   ],
   "source": [
    "exist_crossdataset_preds_binary = {\n",
    "    \"SVM stle emo\":y_style_emo,\n",
    "    \"RoBERTa\":y_roberta,\n",
    "    \"RoBERTa+Swin V2\":y_multimodal\n",
    "}\n",
    "print(\"Pearson r\\n\")\n",
    "get_pearson_correlations(exist_crossdataset_preds_binary,[])\n",
    "\n",
    "best_exist_binary_crossdataset = {\n",
    "    \"RoBERTa\":y_roberta,\n",
    "    \"Ensemble\":y_ensemble\n",
    "}\n",
    "print(\"-\"*30,\"\\nMcNemar test\\n\")\n",
    "get_mcnemar_significance(y_test,best_exist_binary_crossdataset,[])"
   ]
  },
  {
   "cell_type": "markdown",
   "metadata": {},
   "source": [
    "EXIST - Multi-label"
   ]
  },
  {
   "cell_type": "code",
   "execution_count": 23,
   "metadata": {},
   "outputs": [],
   "source": [
    "#test labels\n",
    "exist_label_names = [\"sexist\",\"stereotyping-dominance\",\"objectification\", \"sexual-violence\"]\n",
    "exist_test_df = pd.read_json(\"../data/overlapping_classes/EXIST2024/EXIST2024_test.json\",orient='index')\n",
    "y_test = exist_test_df[exist_label_names].to_numpy()"
   ]
  },
  {
   "cell_type": "code",
   "execution_count": 24,
   "metadata": {},
   "outputs": [],
   "source": [
    "#model predictions\n",
    "pred_labels = [f\"{label}_prediction\" for label in exist_label_names]\n",
    "y_style_emo = pd.read_csv(\"../models/output/cross_dataset/EXIST2024/ensemble_first_step/svm_stylometric_emotion_w_ensemble_EXIST2024_test_hierarchical.csv\")[pred_labels].to_numpy()\n",
    "y_roberta = pd.read_csv(\"../models/output/cross_dataset/EXIST2024/ensemble_first_step/roberta_EXIST2024_test_hierarchical.csv\")[pred_labels].to_numpy()\n",
    "y_multimodal = pd.read_csv(\"../models/output/cross_dataset/EXIST2024/ensemble_first_step/multimodal_roberta_swin_EXIST2024_test_hierarchical.csv\")[pred_labels].to_numpy()\n",
    "y_ensemble = pd.read_csv(\"../models/output/cross_dataset/EXIST2024/ensemble_first_step/ensemble_svm_roberta_robertaswin_hier_ens_EXIST2024_test_hierarchical.csv\")[pred_labels].to_numpy()\n"
   ]
  },
  {
   "cell_type": "code",
   "execution_count": 25,
   "metadata": {},
   "outputs": [
    {
     "name": "stdout",
     "output_type": "stream",
     "text": [
      "Pearson r\n",
      "\n",
      "SVM stle emo vs RoBERTa\n",
      "  Label stereotyping-dominance | Pearson r: 0.69\n",
      "  Label objectification      | Pearson r: 0.64\n",
      "  Label sexual-violence      | Pearson r: 0.36\n",
      "  Average all               | Pearson r: 0.56\n",
      "\n",
      "------------------------------\n",
      "SVM stle emo vs RoBERTa+Swin V2\n",
      "  Label stereotyping-dominance | Pearson r: 0.72\n",
      "  Label objectification      | Pearson r: 0.41\n",
      "  Label sexual-violence      | Pearson r: 0.34\n",
      "  Average all               | Pearson r: 0.49\n",
      "\n",
      "------------------------------\n",
      "RoBERTa vs RoBERTa+Swin V2\n",
      "  Label stereotyping-dominance | Pearson r: 0.84\n",
      "  Label objectification      | Pearson r: 0.60\n",
      "  Label sexual-violence      | Pearson r: 0.53\n",
      "  Average all               | Pearson r: 0.66\n",
      "\n",
      "------------------------------\n",
      "------------------------------ \n",
      "McNemar test\n",
      "\n",
      "Ensemble vs RoBERTa\n",
      "  Label sexist               | Stat: inf   | p-value: 0.0000 | Significant difference: yes\n",
      "  Label stereotyping-dominance | Stat: 0.57  | p-value: 0.4497 | Significant difference: no\n",
      "  Label objectification      | Stat: 0.17  | p-value: 0.6831 | Significant difference: no\n",
      "  Label sexual-violence      | Stat: 1.78  | p-value: 0.1824 | Significant difference: no\n",
      "\n",
      "  Average statistic        | inf\n",
      "  Average p-value          | 0.3288\n",
      "  Significant labels (<0.05) | 1 / 4\n",
      "  Average significant difference no\n",
      "------------------------------\n"
     ]
    },
    {
     "name": "stderr",
     "output_type": "stream",
     "text": [
      "/Users/arianabritez/anaconda3/envs/thesis/lib/python3.13/site-packages/statsmodels/stats/contingency_tables.py:1348: RuntimeWarning: divide by zero encountered in scalar divide\n",
      "  statistic = (np.abs(n1 - n2) - corr)**2 / (1. * (n1 + n2))\n"
     ]
    }
   ],
   "source": [
    "exist_crossdataset_preds_multilabel = {\n",
    "    \"SVM stle emo\":y_style_emo,\n",
    "    \"RoBERTa\":y_roberta,\n",
    "    \"RoBERTa+Swin V2\":y_multimodal\n",
    "}\n",
    "print(\"Pearson r\\n\")\n",
    "get_pearson_correlations(exist_crossdataset_preds_multilabel,exist_label_names)\n",
    "\n",
    "best_exist_multilabel_crossdataset = {\n",
    "    \"RoBERTa\":y_roberta,\n",
    "    \"Ensemble\":y_ensemble\n",
    "}\n",
    "print(\"-\"*30,\"\\nMcNemar test\\n\")\n",
    "get_mcnemar_significance(y_test,best_exist_multilabel_crossdataset,exist_label_names)"
   ]
  },
  {
   "cell_type": "code",
   "execution_count": null,
   "metadata": {},
   "outputs": [],
   "source": []
  }
 ],
 "metadata": {
  "kernelspec": {
   "display_name": "thesis",
   "language": "python",
   "name": "python3"
  },
  "language_info": {
   "codemirror_mode": {
    "name": "ipython",
    "version": 3
   },
   "file_extension": ".py",
   "mimetype": "text/x-python",
   "name": "python",
   "nbconvert_exporter": "python",
   "pygments_lexer": "ipython3",
   "version": "3.13.4"
  }
 },
 "nbformat": 4,
 "nbformat_minor": 2
}
