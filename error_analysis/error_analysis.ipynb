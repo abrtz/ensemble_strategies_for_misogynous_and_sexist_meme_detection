{
 "cells": [
  {
   "cell_type": "code",
   "execution_count": 1,
   "metadata": {},
   "outputs": [],
   "source": [
    "import pandas as pd\n",
    "from utils_error_analysis import *"
   ]
  },
  {
   "cell_type": "markdown",
   "metadata": {},
   "source": [
    "# In-Domain"
   ]
  },
  {
   "cell_type": "markdown",
   "metadata": {},
   "source": [
    "MAMI - Binary"
   ]
  },
  {
   "cell_type": "code",
   "execution_count": 2,
   "metadata": {},
   "outputs": [],
   "source": [
    "mami_test_df = pd.read_json(\"../data/MAMI/MAMI_test.json\",orient='index')\n",
    "bin_label = \"misogynous_prediction\"\n",
    "y_ensemble = pd.read_csv(\"../models/output/MAMI/ensemble_svm_roberta_robertaswin_MAMI_test_binary.csv\")[bin_label].to_numpy()"
   ]
  },
  {
   "cell_type": "code",
   "execution_count": 3,
   "metadata": {},
   "outputs": [],
   "source": [
    "get_fp_fn_per_label(mami_test_df, y_ensemble, 'misogynous')"
   ]
  },
  {
   "cell_type": "markdown",
   "metadata": {},
   "source": [
    "MAMI - Multi-label"
   ]
  },
  {
   "cell_type": "code",
   "execution_count": 4,
   "metadata": {},
   "outputs": [],
   "source": [
    "mami_label_names = [\"misogynous\",\"shaming\",\"stereotype\",\"objectification\",\"violence\"]\n",
    "pred_labels = [f\"{label}_prediction\" for label in mami_label_names]\n",
    "y_ensemble = pd.read_csv(\"../models/output/MAMI/roberta_first_step/ensemble_svm_roberta_robertaswin_hier_ens_MAMI_test_hierarchical.csv\")[pred_labels].to_numpy()"
   ]
  },
  {
   "cell_type": "code",
   "execution_count": 5,
   "metadata": {},
   "outputs": [],
   "source": [
    "get_fp_fn_per_label(mami_test_df, y_ensemble, mami_label_names,max_errors=8)"
   ]
  },
  {
   "cell_type": "markdown",
   "metadata": {},
   "source": [
    "EXIST - Binary"
   ]
  },
  {
   "cell_type": "code",
   "execution_count": 6,
   "metadata": {},
   "outputs": [],
   "source": [
    "exist_test_df = pd.read_json(\"../data/EXIST2024/EXIST2024_test.json\",orient='index')\n",
    "bin_label = \"sexist_prediction\"\n",
    "y_ensemble = pd.read_csv(\"../models/output/EXIST2024/ensemble_svm_roberta_robertaswin_EXIST2024_test_binary.csv\")[bin_label].to_numpy()"
   ]
  },
  {
   "cell_type": "code",
   "execution_count": 7,
   "metadata": {},
   "outputs": [],
   "source": [
    "get_fp_fn_per_label(exist_test_df, y_ensemble, 'sexist')"
   ]
  },
  {
   "cell_type": "markdown",
   "metadata": {},
   "source": [
    "EXIST - Multi-label"
   ]
  },
  {
   "cell_type": "code",
   "execution_count": 8,
   "metadata": {},
   "outputs": [],
   "source": [
    "exist_label_names = [\"sexist\",\"ideological-inequality\",\"stereotyping-dominance\",\"objectification\", \"sexual-violence\", \"misogyny-non-sexual-violence\"]\n",
    "pred_labels = [f\"{label}_prediction\" for label in exist_label_names]\n",
    "y_ensemble = pd.read_csv(\"../models/output/EXIST2024/ensemble_first_step/ensemble_svm_roberta_robertaswin_hier_ens_EXIST2024_test_hierarchical.csv\")[pred_labels].to_numpy()"
   ]
  },
  {
   "cell_type": "code",
   "execution_count": 9,
   "metadata": {},
   "outputs": [],
   "source": [
    "get_fp_fn_per_label(exist_test_df, y_ensemble, exist_label_names,max_errors=6)"
   ]
  },
  {
   "cell_type": "markdown",
   "metadata": {},
   "source": [
    "# Cross-Dataset"
   ]
  },
  {
   "cell_type": "markdown",
   "metadata": {},
   "source": [
    "MAMI - Binary"
   ]
  },
  {
   "cell_type": "code",
   "execution_count": 10,
   "metadata": {},
   "outputs": [],
   "source": [
    "#test labels\n",
    "mami_test_df = pd.read_json(\"../data/overlapping_classes/MAMI/MAMI_test.json\",orient='index')\n",
    "bin_label = \"misogynous_prediction\"\n",
    "y_ensemble = pd.read_csv(\"../models/output/cross_dataset/MAMI/ensemble_svm_roberta_robertaswin_MAMI_test_binary.csv\")[bin_label].to_numpy()"
   ]
  },
  {
   "cell_type": "code",
   "execution_count": 11,
   "metadata": {},
   "outputs": [],
   "source": [
    "get_fp_fn_per_label(mami_test_df, y_ensemble, 'misogynous')"
   ]
  },
  {
   "cell_type": "markdown",
   "metadata": {},
   "source": [
    "MAMI - Multi-label"
   ]
  },
  {
   "cell_type": "code",
   "execution_count": 12,
   "metadata": {},
   "outputs": [],
   "source": [
    "mami_label_names = [\"misogynous\",\"stereotype\",\"objectification\",\"violence\"]\n",
    "pred_labels = [f\"{label}_prediction\" for label in mami_label_names]\n",
    "y_ensemble = pd.read_csv(\"../models/output/cross_dataset/MAMI/ensemble_first_step/ensemble_svm_roberta_robertaswin_hier_ens_MAMI_test_hierarchical.csv\")[pred_labels].to_numpy()"
   ]
  },
  {
   "cell_type": "code",
   "execution_count": 13,
   "metadata": {},
   "outputs": [],
   "source": [
    "get_fp_fn_per_label(mami_test_df, y_ensemble, mami_label_names,max_errors=10)"
   ]
  },
  {
   "cell_type": "markdown",
   "metadata": {},
   "source": [
    "EXIST 2024 - Binary"
   ]
  },
  {
   "cell_type": "code",
   "execution_count": 14,
   "metadata": {},
   "outputs": [],
   "source": [
    "exist_test_df = pd.read_json(\"../data/overlapping_classes/EXIST2024/EXIST2024_test.json\",orient='index')\n",
    "bin_label = \"sexist_prediction\"\n",
    "y_ensemble = pd.read_csv(\"../models/output/cross_dataset/EXIST2024/ensemble_svm_roberta_robertaswin_EXIST2024_test_binary.csv\")[bin_label].to_numpy()"
   ]
  },
  {
   "cell_type": "code",
   "execution_count": 15,
   "metadata": {},
   "outputs": [],
   "source": [
    "get_fp_fn_per_label(exist_test_df, y_ensemble, 'sexist')"
   ]
  },
  {
   "cell_type": "markdown",
   "metadata": {},
   "source": [
    "EXIST 2024 - Multi-label"
   ]
  },
  {
   "cell_type": "code",
   "execution_count": 16,
   "metadata": {},
   "outputs": [],
   "source": [
    "exist_label_names = [\"sexist\",\"stereotyping-dominance\",\"objectification\", \"sexual-violence\"]\n",
    "pred_labels = [f\"{label}_prediction\" for label in exist_label_names]\n",
    "y_ensemble = pd.read_csv(\"../models/output/cross_dataset/EXIST2024/ensemble_first_step/ensemble_svm_roberta_robertaswin_hier_ens_EXIST2024_test_hierarchical.csv\")[pred_labels].to_numpy()"
   ]
  },
  {
   "cell_type": "code",
   "execution_count": 17,
   "metadata": {},
   "outputs": [],
   "source": [
    "get_fp_fn_per_label(exist_test_df, y_ensemble, exist_label_names,max_errors=10)"
   ]
  }
 ],
 "metadata": {
  "kernelspec": {
   "display_name": "thesis",
   "language": "python",
   "name": "python3"
  },
  "language_info": {
   "codemirror_mode": {
    "name": "ipython",
    "version": 3
   },
   "file_extension": ".py",
   "mimetype": "text/x-python",
   "name": "python",
   "nbconvert_exporter": "python",
   "pygments_lexer": "ipython3",
   "version": "3.13.4"
  }
 },
 "nbformat": 4,
 "nbformat_minor": 2
}
